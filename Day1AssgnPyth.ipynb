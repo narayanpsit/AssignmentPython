{
  "nbformat": 4,
  "nbformat_minor": 0,
  "metadata": {
    "colab": {
      "name": "Day1AssgnPyth.ipynb",
      "provenance": [],
      "collapsed_sections": []
    },
    "kernelspec": {
      "name": "python3",
      "display_name": "Python 3"
    },
    "language_info": {
      "name": "python"
    }
  },
  "cells": [
    {
      "cell_type": "code",
      "execution_count": 3,
      "metadata": {
        "colab": {
          "base_uri": "https://localhost:8080/"
        },
        "id": "BlOXgHnxdCaX",
        "outputId": "ac39c5c5-c48e-4419-b62e-c04b294bc66d"
      },
      "outputs": [
        {
          "output_type": "stream",
          "name": "stdout",
          "text": [
            "Enter integer values: 50 60 70 80 90\n",
            "350\n"
          ]
        }
      ],
      "source": [
        "# Taking multiple numbers as input and printing the sum\n",
        "x = [int(i) for i in input('Enter integer values: ').split()]\n",
        "sum = 0\n",
        "for y in x:\n",
        "  sum += y\n",
        "print(sum)"
      ]
    }
  ]
}