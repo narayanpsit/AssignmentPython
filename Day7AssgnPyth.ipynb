{
  "nbformat": 4,
  "nbformat_minor": 0,
  "metadata": {
    "colab": {
      "name": "Day7AssgnPyth.ipynb",
      "provenance": [],
      "collapsed_sections": []
    },
    "kernelspec": {
      "name": "python3",
      "display_name": "Python 3"
    },
    "language_info": {
      "name": "python"
    }
  },
  "cells": [
    {
      "cell_type": "code",
      "execution_count": null,
      "metadata": {
        "id": "-ShWaGwEF-nD"
      },
      "outputs": [],
      "source": [
        "#Python Database Connection Project---updates any one value in the table and select all the data and print it\n",
        "\n",
        "import mysql.connector as sql\n",
        "\n",
        "# Connecting the local mysql database\n",
        "database = sql.connect(host = 'localhost', user = 'root', passwd = 'jaguar123', database = 'schooldb')\n",
        "\n",
        "cur = database.cursor()\n",
        "\n",
        "\n",
        "cur.execute(\"update student set Maths_mark = 90 where Roll_no = 100\")     # Update the record \n",
        "cur.execute(\"select * from student\")        # View the table\n",
        "\n",
        "for i in cur:\n",
        "    print(i)\n",
        "\n",
        "cur.close()\n",
        "database.commit()"
      ]
    }
  ]
}