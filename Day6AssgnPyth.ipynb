{
  "nbformat": 4,
  "nbformat_minor": 0,
  "metadata": {
    "colab": {
      "name": "Day6AssgnPyth.ipynb",
      "provenance": [],
      "collapsed_sections": []
    },
    "kernelspec": {
      "name": "python3",
      "display_name": "Python 3"
    },
    "language_info": {
      "name": "python"
    }
  },
  "cells": [
    {
      "cell_type": "code",
      "execution_count": 9,
      "metadata": {
        "colab": {
          "base_uri": "https://localhost:8080/"
        },
        "id": "A4IkZz_LBY2g",
        "outputId": "f91d90d7-a8fb-436d-a7d3-3ff88abf0988"
      },
      "outputs": [
        {
          "output_type": "stream",
          "name": "stdout",
          "text": [
            "Enter two Numbers: 20 10\n",
            "2\n"
          ]
        }
      ],
      "source": [
        "def mod_div(fun):\n",
        "\tdef deno(a, b):\n",
        "\t\tif a < b :\n",
        "\t\t\ta, b = b, a\n",
        "\t\treturn fun(a, b)\n",
        "\treturn deno\n",
        "\t\n",
        "@mod_div\n",
        "def div(a, b):\n",
        "\treturn  a // b\n",
        "    \n",
        "a, b = (int(i) for i in input(\"Enter two Numbers: \").split())\n",
        "\n",
        "\n",
        "print(div(a, b))"
      ]
    }
  ]
}