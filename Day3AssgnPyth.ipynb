{
  "nbformat": 4,
  "nbformat_minor": 0,
  "metadata": {
    "colab": {
      "name": "Day3AssgnPyth.ipynb",
      "provenance": [],
      "collapsed_sections": []
    },
    "kernelspec": {
      "name": "python3",
      "display_name": "Python 3"
    },
    "language_info": {
      "name": "python"
    }
  },
  "cells": [
    {
      "cell_type": "code",
      "execution_count": null,
      "metadata": {
        "colab": {
          "base_uri": "https://localhost:8080/"
        },
        "id": "aoAmcWdaDbYC",
        "outputId": "21cf2897-efb4-4f44-cbf0-0f6054369577"
      },
      "outputs": [
        {
          "output_type": "stream",
          "name": "stdout",
          "text": [
            "Predator\n"
          ]
        }
      ],
      "source": [
        "# To print the key whose value is maximum in the Dictionary\n",
        "  \n",
        "Thtr = {'Terminator':500, 'Predator':2000, 'Commando' : 1500}\n",
        " \n",
        "keymax = max(zip(Thtr.values(), Thtr.keys()))[1]\n",
        "print(keymax)"
      ]
    }
  ]
}