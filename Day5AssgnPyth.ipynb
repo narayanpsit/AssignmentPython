{
  "nbformat": 4,
  "nbformat_minor": 0,
  "metadata": {
    "colab": {
      "name": "Day5AssgnPyth.ipynb",
      "provenance": [],
      "collapsed_sections": []
    },
    "kernelspec": {
      "name": "python3",
      "display_name": "Python 3"
    },
    "language_info": {
      "name": "python"
    }
  },
  "cells": [
    {
      "cell_type": "code",
      "execution_count": 4,
      "metadata": {
        "colab": {
          "base_uri": "https://localhost:8080/"
        },
        "id": "BshJ2JZyZK-0",
        "outputId": "4b56b4d8-b959-4af3-c629-d08781333341"
      },
      "outputs": [
        {
          "output_type": "stream",
          "name": "stdout",
          "text": [
            "[3, 6, 9, 12, 15, 18, 21, 24, 27, 30, 33, 36, 39, 42, 45, 48] List of numbers divisible by 3 \n",
            "\n",
            "[5, 10, 15, 20, 25, 30, 35, 40, 45] List of numbers divisible by 5\n"
          ]
        }
      ],
      "source": [
        "numlist = list(range(1,50))\n",
        "divby3 = list(filter(lambda x: (x % 3 == 0), numlist))\n",
        "divby5 = list(filter(lambda x: (x % 5 == 0), numlist))\n",
        "print(divby3,\"List of numbers divisible by 3 \\n\") \n",
        "print(divby5,\"List of numbers divisible by 5\")"
      ]
    }
  ]
}