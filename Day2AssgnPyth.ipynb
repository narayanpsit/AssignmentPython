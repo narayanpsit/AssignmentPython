{
  "nbformat": 4,
  "nbformat_minor": 0,
  "metadata": {
    "colab": {
      "name": "Day2AssgnPyth.ipynb",
      "provenance": [],
      "collapsed_sections": []
    },
    "kernelspec": {
      "name": "python3",
      "display_name": "Python 3"
    },
    "language_info": {
      "name": "python"
    }
  },
  "cells": [
    {
      "cell_type": "code",
      "execution_count": 1,
      "metadata": {
        "colab": {
          "base_uri": "https://localhost:8080/"
        },
        "id": "pT2zXTmcf4vC",
        "outputId": "f62fc792-16a9-4309-d0d9-256513d14383"
      },
      "outputs": [
        {
          "output_type": "stream",
          "name": "stdout",
          "text": [
            "Enter the lottery word: abracabadra\n",
            "[0, 0, 0, 0, 0, 0, 0, 0, 0, 0, 0, 0, 0, 0, 0, 0, 0, 0, 0, 0, 0, 0, 0, 0, 0, 0]\n",
            "[5, 2, 1, 1, 0, 0, 0, 0, 0, 0, 0, 0, 0, 0, 0, 0, 0, 2, 0, 0, 0, 0, 0, 0, 0, 0]\n",
            "0\n",
            "a\n"
          ]
        }
      ],
      "source": [
        "# Project: Lottery\n",
        "w = input('Enter the lottery word: ')\n",
        "\n",
        "fqcy = [0] * 26\n",
        "\n",
        "print(fqcy)\n",
        "\n",
        "for i in w:\n",
        "  fqcy[ord(i) - 97] += 1\n",
        "\n",
        "print(fqcy)\n",
        "y = fqcy.index(max(fqcy))\n",
        "print(y)\n",
        "print(chr(97 + y))"
      ]
    }
  ]
}